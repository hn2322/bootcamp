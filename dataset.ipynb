{
 "cells": [
  {
   "cell_type": "code",
   "execution_count": 23,
   "id": "07e47b74-035b-4298-8b85-c002cae74a71",
   "metadata": {},
   "outputs": [],
   "source": [
    "import pandas as pd\n",
    "#import geopandas as gpd"
   ]
  },
  {
   "cell_type": "code",
   "execution_count": 24,
   "id": "97752c96-c6e6-428c-93a4-6085f2cb4e43",
   "metadata": {},
   "outputs": [],
   "source": [
    "# 한글 폰트 깨짐 (출처: https://giveme-happyending.tistory.com/168)\n",
    "import matplotlib.pyplot as plt\n",
    "plt.rcParams['font.family'] ='Malgun Gothic'\n",
    "plt.rcParams['axes.unicode_minus'] =False"
   ]
  },
  {
   "cell_type": "markdown",
   "id": "1253f3d7-7dba-48f5-950f-c5878da40d8b",
   "metadata": {
    "jp-MarkdownHeadingCollapsed": true
   },
   "source": [
    "# 0. Load Data\n"
   ]
  },
  {
   "cell_type": "markdown",
   "id": "247dc678-6e3a-4897-b4f1-f2e9db0e7b6a",
   "metadata": {
    "jp-MarkdownHeadingCollapsed": true
   },
   "source": [
    "## 0.1 테이블정의서\n"
   ]
  },
  {
   "cell_type": "code",
   "execution_count": 25,
   "id": "9b2279e1-7b67-4b83-8670-dcbc80429e42",
   "metadata": {},
   "outputs": [
    {
     "data": {
      "text/html": [
       "<div>\n",
       "<style scoped>\n",
       "    .dataframe tbody tr th:only-of-type {\n",
       "        vertical-align: middle;\n",
       "    }\n",
       "\n",
       "    .dataframe tbody tr th {\n",
       "        vertical-align: top;\n",
       "    }\n",
       "\n",
       "    .dataframe thead th {\n",
       "        text-align: right;\n",
       "    }\n",
       "</style>\n",
       "<table border=\"1\" class=\"dataframe\">\n",
       "  <thead>\n",
       "    <tr style=\"text-align: right;\">\n",
       "      <th></th>\n",
       "      <th>1</th>\n",
       "      <th>2</th>\n",
       "      <th>3</th>\n",
       "      <th>4</th>\n",
       "      <th>5</th>\n",
       "      <th>6</th>\n",
       "      <th>7</th>\n",
       "      <th>8</th>\n",
       "      <th>9</th>\n",
       "    </tr>\n",
       "  </thead>\n",
       "  <tbody>\n",
       "    <tr>\n",
       "      <th>0</th>\n",
       "      <td>테이블ID</td>\n",
       "      <td>자치구</td>\n",
       "      <td>NaN</td>\n",
       "      <td>테이블명</td>\n",
       "      <td>시군구경계</td>\n",
       "      <td>NaN</td>\n",
       "      <td>업무영역</td>\n",
       "      <td>NaN</td>\n",
       "      <td>DW</td>\n",
       "    </tr>\n",
       "    <tr>\n",
       "      <th>1</th>\n",
       "      <td>정의</td>\n",
       "      <td>자치구</td>\n",
       "      <td>NaN</td>\n",
       "      <td>NaN</td>\n",
       "      <td>NaN</td>\n",
       "      <td>NaN</td>\n",
       "      <td>NaN</td>\n",
       "      <td>NaN</td>\n",
       "      <td>NaN</td>\n",
       "    </tr>\n",
       "    <tr>\n",
       "      <th>2</th>\n",
       "      <td>설명</td>\n",
       "      <td>자치구</td>\n",
       "      <td>NaN</td>\n",
       "      <td>NaN</td>\n",
       "      <td>NaN</td>\n",
       "      <td>NaN</td>\n",
       "      <td>NaN</td>\n",
       "      <td>NaN</td>\n",
       "      <td>NaN</td>\n",
       "    </tr>\n",
       "    <tr>\n",
       "      <th>3</th>\n",
       "      <td>순번</td>\n",
       "      <td>컬럼명</td>\n",
       "      <td>컬럼명</td>\n",
       "      <td>PK</td>\n",
       "      <td>FK</td>\n",
       "      <td>데이터타입</td>\n",
       "      <td>N</td>\n",
       "      <td>D</td>\n",
       "      <td>설명</td>\n",
       "    </tr>\n",
       "    <tr>\n",
       "      <th>4</th>\n",
       "      <td>1</td>\n",
       "      <td>SIGNGU_CD</td>\n",
       "      <td>시군구_코드</td>\n",
       "      <td>O</td>\n",
       "      <td>NaN</td>\n",
       "      <td>VARCHAR2(5)</td>\n",
       "      <td>N</td>\n",
       "      <td>NaN</td>\n",
       "      <td>시군구_코드</td>\n",
       "    </tr>\n",
       "    <tr>\n",
       "      <th>...</th>\n",
       "      <td>...</td>\n",
       "      <td>...</td>\n",
       "      <td>...</td>\n",
       "      <td>...</td>\n",
       "      <td>...</td>\n",
       "      <td>...</td>\n",
       "      <td>...</td>\n",
       "      <td>...</td>\n",
       "      <td>...</td>\n",
       "    </tr>\n",
       "    <tr>\n",
       "      <th>399</th>\n",
       "      <td>20</td>\n",
       "      <td>FAG_30_WRC_POPLTN_CO</td>\n",
       "      <td>여성연령대_30_직장_인구_수</td>\n",
       "      <td>NaN</td>\n",
       "      <td>NaN</td>\n",
       "      <td>NUMBER</td>\n",
       "      <td>NaN</td>\n",
       "      <td>NaN</td>\n",
       "      <td>여성연령대_30_직장_인구_수</td>\n",
       "    </tr>\n",
       "    <tr>\n",
       "      <th>400</th>\n",
       "      <td>21</td>\n",
       "      <td>FAG_40_WRC_POPLTN_CO</td>\n",
       "      <td>여성연령대_40_직장_인구_수</td>\n",
       "      <td>NaN</td>\n",
       "      <td>NaN</td>\n",
       "      <td>NUMBER</td>\n",
       "      <td>NaN</td>\n",
       "      <td>NaN</td>\n",
       "      <td>여성연령대_40_직장_인구_수</td>\n",
       "    </tr>\n",
       "    <tr>\n",
       "      <th>401</th>\n",
       "      <td>22</td>\n",
       "      <td>FAG_50_WRC_POPLTN_CO</td>\n",
       "      <td>여성연령대_50_직장_인구_수</td>\n",
       "      <td>NaN</td>\n",
       "      <td>NaN</td>\n",
       "      <td>NUMBER</td>\n",
       "      <td>NaN</td>\n",
       "      <td>NaN</td>\n",
       "      <td>여성연령대_50_직장_인구_수</td>\n",
       "    </tr>\n",
       "    <tr>\n",
       "      <th>402</th>\n",
       "      <td>23</td>\n",
       "      <td>FAG_60_ABOVE_WRC_POPLTN_CO</td>\n",
       "      <td>여성연령대_60_이상_직장_인구_수</td>\n",
       "      <td>NaN</td>\n",
       "      <td>NaN</td>\n",
       "      <td>NUMBER</td>\n",
       "      <td>NaN</td>\n",
       "      <td>NaN</td>\n",
       "      <td>여성연령대_60_이상_직장_인구_수</td>\n",
       "    </tr>\n",
       "    <tr>\n",
       "      <th>403</th>\n",
       "      <td>24</td>\n",
       "      <td>RELM_AR</td>\n",
       "      <td>영역_면적</td>\n",
       "      <td>NaN</td>\n",
       "      <td>NaN</td>\n",
       "      <td>NUMBER(22)</td>\n",
       "      <td>NaN</td>\n",
       "      <td>NaN</td>\n",
       "      <td>영역_면적</td>\n",
       "    </tr>\n",
       "  </tbody>\n",
       "</table>\n",
       "<p>404 rows × 9 columns</p>\n",
       "</div>"
      ],
      "text/plain": [
       "         1                           2                      3     4      5  \\\n",
       "0    테이블ID                         자치구                    NaN  테이블명  시군구경계   \n",
       "1       정의                         자치구                    NaN   NaN    NaN   \n",
       "2       설명                         자치구                    NaN   NaN    NaN   \n",
       "3       순번                         컬럼명                    컬럼명    PK     FK   \n",
       "4        1                   SIGNGU_CD                 시군구_코드     O    NaN   \n",
       "..     ...                         ...                    ...   ...    ...   \n",
       "399     20        FAG_30_WRC_POPLTN_CO  여성연령대_30_직장_인구_수        NaN    NaN   \n",
       "400     21        FAG_40_WRC_POPLTN_CO  여성연령대_40_직장_인구_수        NaN    NaN   \n",
       "401     22        FAG_50_WRC_POPLTN_CO  여성연령대_50_직장_인구_수        NaN    NaN   \n",
       "402     23  FAG_60_ABOVE_WRC_POPLTN_CO    여성연령대_60_이상_직장_인구_수   NaN    NaN   \n",
       "403     24                     RELM_AR                  영역_면적   NaN    NaN   \n",
       "\n",
       "               6     7    8                      9  \n",
       "0            NaN  업무영역  NaN                     DW  \n",
       "1            NaN   NaN  NaN                    NaN  \n",
       "2            NaN   NaN  NaN                    NaN  \n",
       "3          데이터타입     N    D                     설명  \n",
       "4    VARCHAR2(5)     N  NaN                 시군구_코드  \n",
       "..           ...   ...  ...                    ...  \n",
       "399       NUMBER   NaN  NaN  여성연령대_30_직장_인구_수       \n",
       "400       NUMBER   NaN  NaN  여성연령대_40_직장_인구_수       \n",
       "401       NUMBER   NaN  NaN  여성연령대_50_직장_인구_수       \n",
       "402       NUMBER   NaN  NaN    여성연령대_60_이상_직장_인구_수  \n",
       "403   NUMBER(22)   NaN  NaN                  영역_면적  \n",
       "\n",
       "[404 rows x 9 columns]"
      ]
     },
     "execution_count": 25,
     "metadata": {},
     "output_type": "execute_result"
    }
   ],
   "source": [
    "define_df = pd.read_excel('./Data/테이블정의서.xlsx', '테이블정의서')  # 파일 수정 : 컬럼명 1~9 추가\n",
    "define_df"
   ]
  },
  {
   "cell_type": "code",
   "execution_count": 26,
   "id": "38c1826b-e5ea-4e00-b51d-cbc4422a9faf",
   "metadata": {},
   "outputs": [
    {
     "data": {
      "text/plain": [
       "(Index([  0,  13,  29,  48,  65,  83, 100, 121, 142, 168, 197, 207, 218, 249,\n",
       "        262, 340, 354, 376],\n",
       "       dtype='int64'),\n",
       " 404)"
      ]
     },
     "execution_count": 26,
     "metadata": {},
     "output_type": "execute_result"
    }
   ],
   "source": [
    "define_df[define_df[1] == '테이블ID'].index, len(define_df)"
   ]
  },
  {
   "cell_type": "code",
   "execution_count": 27,
   "id": "6110f20a-17d3-417c-a466-36685cc53461",
   "metadata": {},
   "outputs": [
    {
     "data": {
      "text/html": [
       "<div>\n",
       "<style scoped>\n",
       "    .dataframe tbody tr th:only-of-type {\n",
       "        vertical-align: middle;\n",
       "    }\n",
       "\n",
       "    .dataframe tbody tr th {\n",
       "        vertical-align: top;\n",
       "    }\n",
       "\n",
       "    .dataframe thead th {\n",
       "        text-align: right;\n",
       "    }\n",
       "</style>\n",
       "<table border=\"1\" class=\"dataframe\">\n",
       "  <thead>\n",
       "    <tr style=\"text-align: right;\">\n",
       "      <th></th>\n",
       "      <th>1</th>\n",
       "      <th>2</th>\n",
       "      <th>3</th>\n",
       "      <th>4</th>\n",
       "      <th>5</th>\n",
       "      <th>6</th>\n",
       "      <th>7</th>\n",
       "      <th>8</th>\n",
       "      <th>9</th>\n",
       "    </tr>\n",
       "  </thead>\n",
       "  <tbody>\n",
       "    <tr>\n",
       "      <th>0</th>\n",
       "      <td>테이블ID</td>\n",
       "      <td>자치구</td>\n",
       "      <td>NaN</td>\n",
       "      <td>테이블명</td>\n",
       "      <td>시군구경계</td>\n",
       "      <td>NaN</td>\n",
       "      <td>업무영역</td>\n",
       "      <td>NaN</td>\n",
       "      <td>DW</td>\n",
       "    </tr>\n",
       "    <tr>\n",
       "      <th>13</th>\n",
       "      <td>테이블ID</td>\n",
       "      <td>행정동경계</td>\n",
       "      <td>NaN</td>\n",
       "      <td>테이블명</td>\n",
       "      <td>행정동경계</td>\n",
       "      <td>NaN</td>\n",
       "      <td>업무영역</td>\n",
       "      <td>NaN</td>\n",
       "      <td>DW</td>\n",
       "    </tr>\n",
       "    <tr>\n",
       "      <th>29</th>\n",
       "      <td>테이블ID</td>\n",
       "      <td>표준단위구역</td>\n",
       "      <td>NaN</td>\n",
       "      <td>테이블명</td>\n",
       "      <td>표준단위구역영역정보</td>\n",
       "      <td>NaN</td>\n",
       "      <td>업무영역</td>\n",
       "      <td>NaN</td>\n",
       "      <td>DW</td>\n",
       "    </tr>\n",
       "    <tr>\n",
       "      <th>48</th>\n",
       "      <td>테이블ID</td>\n",
       "      <td>골목상권영역</td>\n",
       "      <td>NaN</td>\n",
       "      <td>테이블명</td>\n",
       "      <td>골목상권영역</td>\n",
       "      <td>NaN</td>\n",
       "      <td>업무영역</td>\n",
       "      <td>NaN</td>\n",
       "      <td>DW</td>\n",
       "    </tr>\n",
       "    <tr>\n",
       "      <th>65</th>\n",
       "      <td>테이블ID</td>\n",
       "      <td>발달상권영역</td>\n",
       "      <td>NaN</td>\n",
       "      <td>테이블명</td>\n",
       "      <td>발달상권영역</td>\n",
       "      <td>NaN</td>\n",
       "      <td>업무영역</td>\n",
       "      <td>NaN</td>\n",
       "      <td>DW</td>\n",
       "    </tr>\n",
       "    <tr>\n",
       "      <th>83</th>\n",
       "      <td>테이블ID</td>\n",
       "      <td>전통시장상권영역</td>\n",
       "      <td>NaN</td>\n",
       "      <td>테이블명</td>\n",
       "      <td>전통시장상권영역</td>\n",
       "      <td>NaN</td>\n",
       "      <td>업무영역</td>\n",
       "      <td>NaN</td>\n",
       "      <td>DW</td>\n",
       "    </tr>\n",
       "    <tr>\n",
       "      <th>100</th>\n",
       "      <td>테이블ID</td>\n",
       "      <td>TBSM_SUD_APT</td>\n",
       "      <td>NaN</td>\n",
       "      <td>테이블명</td>\n",
       "      <td>표준단위구역별 아파트정보</td>\n",
       "      <td>NaN</td>\n",
       "      <td>업무영역</td>\n",
       "      <td>NaN</td>\n",
       "      <td>SM</td>\n",
       "    </tr>\n",
       "    <tr>\n",
       "      <th>121</th>\n",
       "      <td>테이블ID</td>\n",
       "      <td>TBSM_SUD_BEING_RT_QU</td>\n",
       "      <td>NaN</td>\n",
       "      <td>테이블명</td>\n",
       "      <td>표준단위구역별 연차별생존율 분기</td>\n",
       "      <td>NaN</td>\n",
       "      <td>업무영역</td>\n",
       "      <td>NaN</td>\n",
       "      <td>SM</td>\n",
       "    </tr>\n",
       "    <tr>\n",
       "      <th>142</th>\n",
       "      <td>테이블ID</td>\n",
       "      <td>TBSM_SUD_FCLTY</td>\n",
       "      <td>NaN</td>\n",
       "      <td>테이블명</td>\n",
       "      <td>표준단위구역별 집객시설</td>\n",
       "      <td>NaN</td>\n",
       "      <td>업무영역</td>\n",
       "      <td>NaN</td>\n",
       "      <td>SM</td>\n",
       "    </tr>\n",
       "    <tr>\n",
       "      <th>168</th>\n",
       "      <td>테이블ID</td>\n",
       "      <td>TBSM_SUD_FLPOP_QU</td>\n",
       "      <td>NaN</td>\n",
       "      <td>테이블명</td>\n",
       "      <td>표준단위구역별 생활인구 분기</td>\n",
       "      <td>NaN</td>\n",
       "      <td>업무영역</td>\n",
       "      <td>NaN</td>\n",
       "      <td>SM</td>\n",
       "    </tr>\n",
       "    <tr>\n",
       "      <th>197</th>\n",
       "      <td>테이블ID</td>\n",
       "      <td>TBSM_SUD_HOUSINCOM_QU</td>\n",
       "      <td>NaN</td>\n",
       "      <td>테이블명</td>\n",
       "      <td>표준단위구역별 가구소득 분기</td>\n",
       "      <td>NaN</td>\n",
       "      <td>업무영역</td>\n",
       "      <td>NaN</td>\n",
       "      <td>SM</td>\n",
       "    </tr>\n",
       "    <tr>\n",
       "      <th>207</th>\n",
       "      <td>테이블ID</td>\n",
       "      <td>TBSM_SUD_RENT_CURPRC_QU</td>\n",
       "      <td>NaN</td>\n",
       "      <td>테이블명</td>\n",
       "      <td>표준단위구역별 임대시세 분기</td>\n",
       "      <td>NaN</td>\n",
       "      <td>업무영역</td>\n",
       "      <td>NaN</td>\n",
       "      <td>SM</td>\n",
       "    </tr>\n",
       "    <tr>\n",
       "      <th>218</th>\n",
       "      <td>테이블ID</td>\n",
       "      <td>TBSM_SUD_REPOP_QU</td>\n",
       "      <td>NaN</td>\n",
       "      <td>테이블명</td>\n",
       "      <td>표준단위구역별 상주인구 분기</td>\n",
       "      <td>NaN</td>\n",
       "      <td>업무영역</td>\n",
       "      <td>NaN</td>\n",
       "      <td>SM</td>\n",
       "    </tr>\n",
       "    <tr>\n",
       "      <th>249</th>\n",
       "      <td>테이블ID</td>\n",
       "      <td>TBSM_SUD_SALE_MT_QU</td>\n",
       "      <td>NaN</td>\n",
       "      <td>테이블명</td>\n",
       "      <td>표준단위구역별 평균영업개월 분기</td>\n",
       "      <td>NaN</td>\n",
       "      <td>업무영역</td>\n",
       "      <td>NaN</td>\n",
       "      <td>SM</td>\n",
       "    </tr>\n",
       "    <tr>\n",
       "      <th>262</th>\n",
       "      <td>테이블ID</td>\n",
       "      <td>TBSM_SUD_SELNG_QU</td>\n",
       "      <td>NaN</td>\n",
       "      <td>테이블명</td>\n",
       "      <td>표준단위구역별 추정매출 분기</td>\n",
       "      <td>NaN</td>\n",
       "      <td>업무영역</td>\n",
       "      <td>NaN</td>\n",
       "      <td>SM</td>\n",
       "    </tr>\n",
       "    <tr>\n",
       "      <th>340</th>\n",
       "      <td>테이블ID</td>\n",
       "      <td>TBSM_SUD_STOR_LV12_QU</td>\n",
       "      <td>NaN</td>\n",
       "      <td>테이블명</td>\n",
       "      <td>표준단위구역별 개폐업점포 대분류 분기</td>\n",
       "      <td>NaN</td>\n",
       "      <td>업무영역</td>\n",
       "      <td>NaN</td>\n",
       "      <td>SM</td>\n",
       "    </tr>\n",
       "    <tr>\n",
       "      <th>354</th>\n",
       "      <td>테이블ID</td>\n",
       "      <td>TBSM_SUD_SURV_RT_QU</td>\n",
       "      <td>NaN</td>\n",
       "      <td>테이블명</td>\n",
       "      <td>표준단위구역별 신생기업생존율 분기</td>\n",
       "      <td>NaN</td>\n",
       "      <td>업무영역</td>\n",
       "      <td>NaN</td>\n",
       "      <td>SM</td>\n",
       "    </tr>\n",
       "    <tr>\n",
       "      <th>376</th>\n",
       "      <td>테이블ID</td>\n",
       "      <td>TBSM_SUD_WRC_POPLTN_QU</td>\n",
       "      <td>NaN</td>\n",
       "      <td>테이블명</td>\n",
       "      <td>표준단위구역별 직장인구 분기</td>\n",
       "      <td>NaN</td>\n",
       "      <td>업무영역</td>\n",
       "      <td>NaN</td>\n",
       "      <td>SM</td>\n",
       "    </tr>\n",
       "  </tbody>\n",
       "</table>\n",
       "</div>"
      ],
      "text/plain": [
       "         1                        2    3     4                     5    6  \\\n",
       "0    테이블ID                      자치구  NaN  테이블명                 시군구경계  NaN   \n",
       "13   테이블ID                    행정동경계  NaN  테이블명                 행정동경계  NaN   \n",
       "29   테이블ID                   표준단위구역  NaN  테이블명            표준단위구역영역정보  NaN   \n",
       "48   테이블ID                   골목상권영역  NaN  테이블명                골목상권영역  NaN   \n",
       "65   테이블ID                   발달상권영역  NaN  테이블명                발달상권영역  NaN   \n",
       "83   테이블ID                 전통시장상권영역  NaN  테이블명              전통시장상권영역  NaN   \n",
       "100  테이블ID             TBSM_SUD_APT  NaN  테이블명         표준단위구역별 아파트정보  NaN   \n",
       "121  테이블ID     TBSM_SUD_BEING_RT_QU  NaN  테이블명     표준단위구역별 연차별생존율 분기  NaN   \n",
       "142  테이블ID           TBSM_SUD_FCLTY  NaN  테이블명          표준단위구역별 집객시설  NaN   \n",
       "168  테이블ID        TBSM_SUD_FLPOP_QU  NaN  테이블명       표준단위구역별 생활인구 분기  NaN   \n",
       "197  테이블ID    TBSM_SUD_HOUSINCOM_QU  NaN  테이블명       표준단위구역별 가구소득 분기  NaN   \n",
       "207  테이블ID  TBSM_SUD_RENT_CURPRC_QU  NaN  테이블명       표준단위구역별 임대시세 분기  NaN   \n",
       "218  테이블ID        TBSM_SUD_REPOP_QU  NaN  테이블명       표준단위구역별 상주인구 분기  NaN   \n",
       "249  테이블ID      TBSM_SUD_SALE_MT_QU  NaN  테이블명     표준단위구역별 평균영업개월 분기  NaN   \n",
       "262  테이블ID        TBSM_SUD_SELNG_QU  NaN  테이블명       표준단위구역별 추정매출 분기  NaN   \n",
       "340  테이블ID    TBSM_SUD_STOR_LV12_QU  NaN  테이블명  표준단위구역별 개폐업점포 대분류 분기  NaN   \n",
       "354  테이블ID      TBSM_SUD_SURV_RT_QU  NaN  테이블명    표준단위구역별 신생기업생존율 분기  NaN   \n",
       "376  테이블ID   TBSM_SUD_WRC_POPLTN_QU  NaN  테이블명       표준단위구역별 직장인구 분기  NaN   \n",
       "\n",
       "        7    8   9  \n",
       "0    업무영역  NaN  DW  \n",
       "13   업무영역  NaN  DW  \n",
       "29   업무영역  NaN  DW  \n",
       "48   업무영역  NaN  DW  \n",
       "65   업무영역  NaN  DW  \n",
       "83   업무영역  NaN  DW  \n",
       "100  업무영역  NaN  SM  \n",
       "121  업무영역  NaN  SM  \n",
       "142  업무영역  NaN  SM  \n",
       "168  업무영역  NaN  SM  \n",
       "197  업무영역  NaN  SM  \n",
       "207  업무영역  NaN  SM  \n",
       "218  업무영역  NaN  SM  \n",
       "249  업무영역  NaN  SM  \n",
       "262  업무영역  NaN  SM  \n",
       "340  업무영역  NaN  SM  \n",
       "354  업무영역  NaN  SM  \n",
       "376  업무영역  NaN  SM  "
      ]
     },
     "execution_count": 27,
     "metadata": {},
     "output_type": "execute_result"
    }
   ],
   "source": [
    "define_df[define_df[1] == '테이블ID']"
   ]
  },
  {
   "cell_type": "code",
   "execution_count": 28,
   "id": "9a48922f-a646-45ef-9df9-52e2e67ad3ca",
   "metadata": {},
   "outputs": [
    {
     "ename": "NameError",
     "evalue": "name 'tmp' is not defined",
     "output_type": "error",
     "traceback": [
      "\u001b[0;31m---------------------------------------------------------------------------\u001b[0m",
      "\u001b[0;31mNameError\u001b[0m                                 Traceback (most recent call last)",
      "Cell \u001b[0;32mIn[28], line 1\u001b[0m\n\u001b[0;32m----> 1\u001b[0m checkpoint \u001b[38;5;241m=\u001b[39m \u001b[38;5;28mlist\u001b[39m(define_df[define_df[\u001b[38;5;241m1\u001b[39m] \u001b[38;5;241m==\u001b[39m \u001b[38;5;124m'\u001b[39m\u001b[38;5;124m테이블ID\u001b[39m\u001b[38;5;124m'\u001b[39m]\u001b[38;5;241m.\u001b[39mindex) \u001b[38;5;241m+\u001b[39m [\u001b[38;5;28mlen\u001b[39m(tmp)]\n",
      "\u001b[0;31mNameError\u001b[0m: name 'tmp' is not defined"
     ]
    }
   ],
   "source": [
    "checkpoint = list(define_df[define_df[1] == '테이블ID'].index) + [len(tmp)]"
   ]
  },
  {
   "cell_type": "markdown",
   "id": "60554dbe-6af9-4aa4-b258-62646b9f9b9e",
   "metadata": {
    "jp-MarkdownHeadingCollapsed": true
   },
   "source": [
    "### 0.1.1 12개 테이블 정의 영역 구분\n"
   ]
  },
  {
   "cell_type": "code",
   "execution_count": 29,
   "id": "4c19afc6-ef48-44ee-8683-18ad28008669",
   "metadata": {},
   "outputs": [
    {
     "ename": "NameError",
     "evalue": "name 'checkpoint' is not defined",
     "output_type": "error",
     "traceback": [
      "\u001b[0;31m---------------------------------------------------------------------------\u001b[0m",
      "\u001b[0;31mNameError\u001b[0m                                 Traceback (most recent call last)",
      "Cell \u001b[0;32mIn[29], line 2\u001b[0m\n\u001b[1;32m      1\u001b[0m define_df_list \u001b[38;5;241m=\u001b[39m []\n\u001b[0;32m----> 2\u001b[0m \u001b[38;5;28;01mfor\u001b[39;00m idx \u001b[38;5;129;01min\u001b[39;00m \u001b[38;5;28mrange\u001b[39m(\u001b[38;5;28mlen\u001b[39m(checkpoint)\u001b[38;5;241m-\u001b[39m\u001b[38;5;241m1\u001b[39m):\n\u001b[1;32m      3\u001b[0m     l, r \u001b[38;5;241m=\u001b[39m checkpoint[idx], checkpoint[idx\u001b[38;5;241m+\u001b[39m\u001b[38;5;241m1\u001b[39m]\n\u001b[1;32m      4\u001b[0m     define_df_list\u001b[38;5;241m.\u001b[39mappend(define_df\u001b[38;5;241m.\u001b[39miloc[l:r])\n",
      "\u001b[0;31mNameError\u001b[0m: name 'checkpoint' is not defined"
     ]
    }
   ],
   "source": [
    "define_df_list = []\n",
    "for idx in range(len(checkpoint)-1):\n",
    "    l, r = checkpoint[idx], checkpoint[idx+1]\n",
    "    define_df_list.append(define_df.iloc[l:r])"
   ]
  },
  {
   "cell_type": "code",
   "execution_count": null,
   "id": "a82fbd40-a2a2-4d07-8460-aee11920426d",
   "metadata": {},
   "outputs": [],
   "source": [
    "define_df_list = define_df_list[6:]  # 앞의 6개는 shp 정의 -> pass\n",
    "len(define_df_list)"
   ]
  },
  {
   "cell_type": "code",
   "execution_count": null,
   "id": "cc2ba9a2-e970-4fe1-a89a-68e9cd8e47bf",
   "metadata": {},
   "outputs": [],
   "source": [
    "define_df_list[0]"
   ]
  },
  {
   "cell_type": "code",
   "execution_count": null,
   "id": "3ef382fc-a2ae-4c2e-a4ce-4a2cfe27025b",
   "metadata": {},
   "outputs": [],
   "source": [
    "data_df_list = []\n",
    "for i in range(len(df_list)):\n",
    "    df = define_df_list[i]\n",
    "    table_name, table_name_kor = df.iloc[0, 1], df.iloc[1, 1]\n",
    "    if table_name == 'TBSM_SUD_STOR_LV12_QU':\n",
    "        table_name = 'TBSM_SUD_STOR_QU'\n",
    "    \n",
    "    col_list = df.iloc[4:, 2].values\n",
    "    col_list = [col.strip() for col in col_list]\n",
    "    print(table_name, '\\t\\t', table_name_kor)\n",
    "    # print(col_list)\n",
    "\n",
    "    data_df = pd.read_csv(f'./Data/{table_name}.csv', encoding='euc-kr')\n",
    "    data_df.columns = col_list\n",
    "    data_df_list.append(data_df)"
   ]
  },
  {
   "cell_type": "code",
   "execution_count": null,
   "id": "4787d6a2-37d4-4daf-8f8a-4f66f22dce2f",
   "metadata": {},
   "outputs": [],
   "source": [
    "len(data_df_list)"
   ]
  },
  {
   "cell_type": "markdown",
   "id": "d763a10a-25de-44b6-9eb0-621e4ff7ae55",
   "metadata": {
    "jp-MarkdownHeadingCollapsed": true
   },
   "source": [
    "### 0.1.2 12개 테이블의 도수 분포(히스토그램) 확인\n"
   ]
  },
  {
   "cell_type": "code",
   "execution_count": null,
   "id": "c04df096-a203-4a95-ba7c-8f26c04eec38",
   "metadata": {},
   "outputs": [],
   "source": [
    "data_df_list[0].hist(bins=20, figsize=(20, 15))"
   ]
  },
  {
   "cell_type": "code",
   "execution_count": null,
   "id": "68d6ad0c-abcf-4c28-bab9-c055ad654c88",
   "metadata": {},
   "outputs": [],
   "source": [
    "data_df_list[1].hist(bins=20, figsize=(20, 15))"
   ]
  },
  {
   "cell_type": "code",
   "execution_count": null,
   "id": "afa55dec-7674-44ac-8bc4-70fc7985e1f3",
   "metadata": {},
   "outputs": [],
   "source": [
    "data_df_list[2].hist(bins=10, figsize=(20, 15))"
   ]
  },
  {
   "cell_type": "code",
   "execution_count": null,
   "id": "bb1a1862-ca1d-45a2-9ac8-1c1bfaf20cd0",
   "metadata": {},
   "outputs": [],
   "source": [
    "data_df_list[3].hist(bins=20, figsize=(20, 15))"
   ]
  },
  {
   "cell_type": "code",
   "execution_count": null,
   "id": "3ebaa48b-6994-475b-9844-725a1f998bee",
   "metadata": {},
   "outputs": [],
   "source": [
    "data_df_list[4].hist(bins=5, figsize=(20, 15))"
   ]
  },
  {
   "cell_type": "code",
   "execution_count": null,
   "id": "2695a099-f9e4-495e-986f-295dbce70547",
   "metadata": {},
   "outputs": [],
   "source": [
    "data_df_list[5].hist(bins=5, figsize=(20, 15))"
   ]
  },
  {
   "cell_type": "code",
   "execution_count": null,
   "id": "cc442096-04a6-4c77-8fd6-9b9ec17b0a51",
   "metadata": {},
   "outputs": [],
   "source": [
    "data_df_list[6].hist(bins=10, figsize=(20, 15))"
   ]
  },
  {
   "cell_type": "code",
   "execution_count": null,
   "id": "7a1a78f6-b367-4172-b0cd-342455f1d1b7",
   "metadata": {},
   "outputs": [],
   "source": [
    "data_df_list[7].hist(bins=10, figsize=(20, 15))"
   ]
  },
  {
   "cell_type": "code",
   "execution_count": null,
   "id": "cb7712a8-f28e-495f-baaf-1efca22978ac",
   "metadata": {},
   "outputs": [],
   "source": [
    "data_df_list[8].hist(bins=50, figsize=(20, 15))"
   ]
  },
  {
   "cell_type": "code",
   "execution_count": null,
   "id": "b506b66f-86a2-4b1d-b12c-10e0595e2895",
   "metadata": {},
   "outputs": [],
   "source": [
    "data_df_list[9].hist(bins=5, figsize=(20, 15))"
   ]
  },
  {
   "cell_type": "code",
   "execution_count": null,
   "id": "9ed9be7e-3786-4c4e-9cd3-6ae9c37cd1e9",
   "metadata": {},
   "outputs": [],
   "source": [
    "data_df_list[10].hist(bins=10, figsize=(20, 15))"
   ]
  },
  {
   "cell_type": "code",
   "execution_count": null,
   "id": "2e96a29c-e846-4f94-9761-c1b7e1a72d5b",
   "metadata": {},
   "outputs": [],
   "source": [
    "data_df_list[11].hist(bins=5, figsize=(20, 15))"
   ]
  },
  {
   "cell_type": "markdown",
   "id": "14903098-1240-4eb1-bba6-5479f8e40016",
   "metadata": {
    "jp-MarkdownHeadingCollapsed": true
   },
   "source": [
    "# 1. 상관관계 분석\n"
   ]
  },
  {
   "cell_type": "code",
   "execution_count": null,
   "id": "724ee9e9-7e65-49c9-8457-86a04416f209",
   "metadata": {},
   "outputs": [],
   "source": [
    "df_sk = pd.read_csv('./dataset/상권매칭테이블.csv', encoding='euc-kr')\n",
    "df_sk2 = df_sk[['SUD_CD', 'TRDAR_SE_CD']]\n",
    "df_sk2.columns = ['표준단위구역_코드', '상권분류코드']\n",
    "df_sk2.head()"
   ]
  },
  {
   "cell_type": "markdown",
   "id": "8250901f-f804-4aa6-ac29-b6fe6d617091",
   "metadata": {
    "jp-MarkdownHeadingCollapsed": true
   },
   "source": [
    "## 1.1 상권별 각 특성 분포 확인\n"
   ]
  },
  {
   "cell_type": "markdown",
   "id": "b0829220-b301-4c22-96c2-2fd9750ff44a",
   "metadata": {
    "jp-MarkdownHeadingCollapsed": true
   },
   "source": [
    "### 1.1.1 특정 테이블의 특정 컬럼을 상권별로 시각화\n"
   ]
  },
  {
   "cell_type": "code",
   "execution_count": null,
   "id": "3b00334c-6881-4e91-b409-c9d5b10c2b00",
   "metadata": {},
   "outputs": [],
   "source": [
    "def show_scatter(idx, col_name):\n",
    "    tmp = data_df_list[idx][['표준단위구역_코드', col_name]]\n",
    "    df = pd.merge(left = df_sk2 , right = tmp, how = \"inner\", on = \"표준단위구역_코드\").drop(columns=['표준단위구역_코드'])\n",
    "    df.plot.scatter('상권분류코드', col_name)"
   ]
  },
  {
   "cell_type": "code",
   "execution_count": null,
   "id": "db07cba7-4c03-480e-9866-d7842449ddfd",
   "metadata": {},
   "outputs": [],
   "source": [
    "show_scatter(11, '남성연령대_50_직장_인구_수')"
   ]
  },
  {
   "cell_type": "markdown",
   "id": "dce7555d-dd54-4e87-98fb-798fcb129aaa",
   "metadata": {
    "jp-MarkdownHeadingCollapsed": true
   },
   "source": [
    "### 1.1.2 특정 테이블에 대해 모든 칼럼을 시각화\n"
   ]
  },
  {
   "cell_type": "code",
   "execution_count": null,
   "id": "9a4ae799-2446-427f-b714-8f373736a1e0",
   "metadata": {},
   "outputs": [],
   "source": [
    "def show(idx):\n",
    "    for col in list(data_df_list[idx].columns):\n",
    "        if col in ('기준_년분기_코드', '기준_년월_코드', '서비스_업종_코드', '표준단위구역_코드'):\n",
    "            continue\n",
    "        show_scatter(idx, col)"
   ]
  },
  {
   "cell_type": "code",
   "execution_count": null,
   "id": "95e88927-c6bd-43f9-b88c-e1b1a9402f93",
   "metadata": {},
   "outputs": [],
   "source": [
    "show(0)"
   ]
  },
  {
   "cell_type": "code",
   "execution_count": null,
   "id": "fa591587-bc83-48fe-a303-2e77cce422e5",
   "metadata": {
    "scrolled": true
   },
   "outputs": [],
   "source": [
    "show(1)"
   ]
  },
  {
   "cell_type": "code",
   "execution_count": null,
   "id": "e8dbea98-d561-4b40-8dd6-b12531b14c2a",
   "metadata": {},
   "outputs": [],
   "source": [
    "# show(2)"
   ]
  },
  {
   "cell_type": "code",
   "execution_count": null,
   "id": "b30ced19-ea12-4085-9e7c-aedefbfce13c",
   "metadata": {
    "scrolled": true
   },
   "outputs": [],
   "source": [
    "show(3)"
   ]
  },
  {
   "cell_type": "code",
   "execution_count": null,
   "id": "d082732e-425f-44ab-a22a-05e92388fe25",
   "metadata": {
    "scrolled": true
   },
   "outputs": [],
   "source": [
    "show(4)"
   ]
  },
  {
   "cell_type": "code",
   "execution_count": null,
   "id": "8c68c979-cc24-478e-8e5d-cd3d44879ab2",
   "metadata": {
    "scrolled": true
   },
   "outputs": [],
   "source": [
    "show(5)"
   ]
  },
  {
   "cell_type": "code",
   "execution_count": null,
   "id": "33959505-3a90-48c1-b80b-4a7a46ab7e08",
   "metadata": {
    "scrolled": true
   },
   "outputs": [],
   "source": [
    "show(6)"
   ]
  },
  {
   "cell_type": "code",
   "execution_count": null,
   "id": "3552c2a2-ed8a-4495-a48a-44c2b4dac28d",
   "metadata": {
    "scrolled": true
   },
   "outputs": [],
   "source": [
    "show(7)"
   ]
  },
  {
   "cell_type": "code",
   "execution_count": null,
   "id": "26092e85-536f-489a-ab9d-20d76de1bd0d",
   "metadata": {},
   "outputs": [],
   "source": [
    "# show(8)"
   ]
  },
  {
   "cell_type": "code",
   "execution_count": null,
   "id": "14f7a4ef-2668-4c48-869e-b546aba021a5",
   "metadata": {
    "scrolled": true
   },
   "outputs": [],
   "source": [
    "show(9)"
   ]
  },
  {
   "cell_type": "code",
   "execution_count": null,
   "id": "90e9064b-9d53-4ad4-a26c-2bf4abb15d88",
   "metadata": {
    "scrolled": true
   },
   "outputs": [],
   "source": [
    "show(10)"
   ]
  },
  {
   "cell_type": "code",
   "execution_count": null,
   "id": "0ad1a3d9-0d50-4231-b669-7d072fa2de73",
   "metadata": {
    "scrolled": true
   },
   "outputs": [],
   "source": [
    "show(11)"
   ]
  },
  {
   "cell_type": "markdown",
   "id": "c8eb859a-5b97-4cf2-92ae-e76024849a6e",
   "metadata": {
    "jp-MarkdownHeadingCollapsed": true
   },
   "source": [
    "## 1.2 두 가지 컬럼에 대한 산포도 확인\n"
   ]
  },
  {
   "cell_type": "markdown",
   "id": "f0e2a1d2-30a6-4fe6-917f-c224421f1550",
   "metadata": {
    "jp-MarkdownHeadingCollapsed": true
   },
   "source": [
    "### 1.2.1 한 개의 테이블 내부\n"
   ]
  },
  {
   "cell_type": "code",
   "execution_count": null,
   "id": "9d475d93-1dc1-458f-9dee-fbd9ee0aaaff",
   "metadata": {},
   "outputs": [],
   "source": [
    "dict_sk_code_kor = {'A':'골목', 'D':'발달', 'R':'시장'}"
   ]
  },
  {
   "cell_type": "code",
   "execution_count": null,
   "id": "0a30adae-8c97-4905-ad4c-5cec3e7b3b68",
   "metadata": {},
   "outputs": [],
   "source": [
    "# 테스트 코드\n",
    "col1, col2 = '남성연령대_50_직장_인구_수', '여성연령대_50_직장_인구_수'\n",
    "tmp = data_df_list[11][['표준단위구역_코드', col1, col2]]\n",
    "df = pd.merge(left = df_sk2 , right = tmp, how = \"inner\", on = \"표준단위구역_코드\").drop(columns=['표준단위구역_코드'])\n",
    "for code in set(df['상권분류코드'].values):\n",
    "    plt.scatter(df[df['상권분류코드']==code][col1],\n",
    "                df[df['상권분류코드']==code][col2],\n",
    "                label = dict_sk_code_kor[code])\n",
    "plt.xlabel(col1)\n",
    "plt.ylabel(col2)\n",
    "plt.legend()\n",
    "plt.show()"
   ]
  },
  {
   "cell_type": "code",
   "execution_count": null,
   "id": "61468d80-2181-4e04-8cc8-70479d6c3b6a",
   "metadata": {},
   "outputs": [],
   "source": [
    "def show_two_scatter(idx, col1, col2, show_golmog=False):\n",
    "    tmp = data_df_list[idx][['표준단위구역_코드', col1, col2]]\n",
    "    df = pd.merge(left = df_sk2 , right = tmp, how = \"inner\", on = \"표준단위구역_코드\").drop(columns=['표준단위구역_코드'])\n",
    "    for code in set(df['상권분류코드'].values):\n",
    "        if not show_golmog and code=='A': continue\n",
    "        plt.scatter(df[df['상권분류코드']==code][col1],\n",
    "                    df[df['상권분류코드']==code][col2],\n",
    "                    label = dict_sk_code_kor[code])\n",
    "    plt.xlabel(col1)\n",
    "    plt.ylabel(col2)\n",
    "    plt.legend()\n",
    "    plt.show()"
   ]
  },
  {
   "cell_type": "code",
   "execution_count": null,
   "id": "d1ec1bf5-ad15-4519-9495-c0416aede873",
   "metadata": {},
   "outputs": [],
   "source": [
    "pass_col = ('기준_년분기_코드', '기준_년월_코드', '서비스_업종_코드', '표준단위구역_코드')\n",
    "def show_two(idx, show_golmog=False):\n",
    "    cols = list(data_df_list[idx].columns)\n",
    "    l = len(cols)\n",
    "    for idx1 in range(l):\n",
    "        col1 = cols[idx1]\n",
    "        if col1 in pass_col: continue\n",
    "        for idx2 in range(idx1, l):\n",
    "            col2 = cols[idx2]\n",
    "            if col2 in pass_col: continue\n",
    "            show_two_scatter(idx, col1, col2, show_golmog)"
   ]
  },
  {
   "cell_type": "code",
   "execution_count": null,
   "id": "fd02fc35-f696-4386-aab2-99eb3031c547",
   "metadata": {
    "scrolled": true
   },
   "outputs": [],
   "source": [
    "show_two(0)"
   ]
  },
  {
   "cell_type": "code",
   "execution_count": null,
   "id": "16c12d9f-4a44-485a-beeb-5ba4db5d632c",
   "metadata": {
    "scrolled": true
   },
   "outputs": [],
   "source": [
    "show_two(1)"
   ]
  },
  {
   "cell_type": "code",
   "execution_count": null,
   "id": "2818f7bb-6ddd-43ef-b91e-45d6f244cd86",
   "metadata": {
    "scrolled": true
   },
   "outputs": [],
   "source": [
    "# show_two(2)"
   ]
  },
  {
   "cell_type": "code",
   "execution_count": null,
   "id": "28742476-ecff-419a-812d-5f22ec15b95a",
   "metadata": {
    "scrolled": true
   },
   "outputs": [],
   "source": [
    "show_two(3)"
   ]
  },
  {
   "cell_type": "code",
   "execution_count": null,
   "id": "fcda3eb8-52bc-46f6-814e-eb8efa371988",
   "metadata": {
    "scrolled": true
   },
   "outputs": [],
   "source": [
    "show_two(4)"
   ]
  },
  {
   "cell_type": "code",
   "execution_count": null,
   "id": "5f2ac419-fbb5-4396-94c0-6f3bdf9ff84d",
   "metadata": {
    "scrolled": true
   },
   "outputs": [],
   "source": [
    "show_two(5)"
   ]
  },
  {
   "cell_type": "code",
   "execution_count": null,
   "id": "41ada793-bcc9-4a65-92d3-643f8553e0f3",
   "metadata": {
    "scrolled": true
   },
   "outputs": [],
   "source": [
    "show_two(6)"
   ]
  },
  {
   "cell_type": "code",
   "execution_count": null,
   "id": "66a443e2-4272-40c3-9150-7389c0aca751",
   "metadata": {},
   "outputs": [],
   "source": [
    "show_two(7)"
   ]
  },
  {
   "cell_type": "code",
   "execution_count": null,
   "id": "017677e1-e623-44ac-8978-e906c62ec001",
   "metadata": {},
   "outputs": [],
   "source": [
    "show_two(8)"
   ]
  },
  {
   "cell_type": "code",
   "execution_count": null,
   "id": "5ba94bd2-30f3-444c-aaeb-b74966070c59",
   "metadata": {},
   "outputs": [],
   "source": [
    "show_two(9)"
   ]
  },
  {
   "cell_type": "code",
   "execution_count": null,
   "id": "153dd38c-85ad-420d-86e6-e49242c61f04",
   "metadata": {},
   "outputs": [],
   "source": [
    "show_two(10)"
   ]
  },
  {
   "cell_type": "code",
   "execution_count": null,
   "id": "48231ee7-3266-42bf-aa1e-31b6cc79ddc1",
   "metadata": {},
   "outputs": [],
   "source": [
    "show_two(11)"
   ]
  },
  {
   "cell_type": "markdown",
   "id": "51764150-6db6-4bb6-8a20-0dbb073efff0",
   "metadata": {
    "jp-MarkdownHeadingCollapsed": true
   },
   "source": [
    "### 1.2.2 여러 개의 테이블\n"
   ]
  },
  {
   "cell_type": "code",
   "execution_count": null,
   "id": "dec85058-62ee-4622-aadc-dc3523f3a162",
   "metadata": {},
   "outputs": [],
   "source": [
    "# 테스트 코드\n",
    "idx1, idx2 = 1, 11\n",
    "col1, col2 = '2년_생존_율', '여성연령대_50_직장_인구_수'\n",
    "tmp1 = data_df_list[idx1][['표준단위구역_코드', col1]]\n",
    "tmp2 = data_df_list[idx2][['표준단위구역_코드', col2]]\n",
    "\n",
    "df = pd.merge(left = df_sk2, right = tmp1, how = \"inner\", on = \"표준단위구역_코드\")\n",
    "df = pd.merge(left = df, right = tmp2, how = \"inner\", on = \"표준단위구역_코드\").drop(columns=['표준단위구역_코드'])\n",
    "for code in set(df['상권분류코드'].values):\n",
    "    plt.scatter(df[df['상권분류코드']==code][col1],\n",
    "                df[df['상권분류코드']==code][col2],\n",
    "                label = dict_sk_code_kor[code])\n",
    "plt.xlabel(col1)\n",
    "plt.ylabel(col2)\n",
    "plt.legend()\n",
    "plt.show()"
   ]
  },
  {
   "cell_type": "code",
   "execution_count": null,
   "id": "7eaeba5a-5b54-44e2-8ce6-4ed67f3d799c",
   "metadata": {},
   "outputs": [],
   "source": [
    "def show_diff_two_scatter(idx1, col1, idx2, col2, show_golmog=False):\n",
    "    tmp1 = data_df_list[idx1][['표준단위구역_코드', col1]]\n",
    "    tmp2 = data_df_list[idx2][['표준단위구역_코드', col2]]\n",
    "    \n",
    "    df = pd.merge(left = df_sk2, right = tmp1, how = \"inner\", on = \"표준단위구역_코드\")\n",
    "    df = pd.merge(left = df, right = tmp2, how = \"inner\", on = \"표준단위구역_코드\").drop(columns=['표준단위구역_코드'])\n",
    "    for code in set(df['상권분류코드'].values):\n",
    "        if not show_golmog and code=='A': continue\n",
    "        plt.scatter(df[df['상권분류코드']==code][col1],\n",
    "                    df[df['상권분류코드']==code][col2],\n",
    "                    label = dict_sk_code_kor[code])\n",
    "    plt.xlabel(col1)\n",
    "    plt.ylabel(col2)\n",
    "    plt.legend()\n",
    "    plt.show()"
   ]
  },
  {
   "cell_type": "code",
   "execution_count": null,
   "id": "726f901e-6d55-436e-86f6-870b7c9e0bad",
   "metadata": {},
   "outputs": [],
   "source": [
    "show_diff_two_scatter(3, '연령대_50_유동인구_수', 6, '남성연령대_10_상주인구_수')"
   ]
  },
  {
   "cell_type": "code",
   "execution_count": null,
   "id": "89418352-3670-4149-806e-5de702151d3c",
   "metadata": {},
   "outputs": [],
   "source": []
  },
  {
   "cell_type": "code",
   "execution_count": null,
   "id": "251d22e4-6816-4405-a5fa-43fc60012bd4",
   "metadata": {},
   "outputs": [],
   "source": []
  },
  {
   "cell_type": "code",
   "execution_count": null,
   "id": "a9ce3c7f-ea8f-469f-bc15-073acc528973",
   "metadata": {},
   "outputs": [],
   "source": []
  },
  {
   "cell_type": "code",
   "execution_count": null,
   "id": "00ae0c91-bd46-4eeb-99bf-f30c1d7e7bd3",
   "metadata": {},
   "outputs": [],
   "source": []
  },
  {
   "cell_type": "code",
   "execution_count": null,
   "id": "f790b6f0-e411-4d41-8eb2-7db2d42571cf",
   "metadata": {},
   "outputs": [],
   "source": []
  },
  {
   "cell_type": "code",
   "execution_count": null,
   "id": "bb96a43a-525a-4928-bc88-1bcdd67038e3",
   "metadata": {},
   "outputs": [],
   "source": []
  },
  {
   "cell_type": "code",
   "execution_count": null,
   "id": "39dc25a3-5174-41fb-a54d-335485a0a2c7",
   "metadata": {},
   "outputs": [],
   "source": []
  },
  {
   "cell_type": "code",
   "execution_count": null,
   "id": "45659c1e-89a3-41d5-a746-a79b8b601074",
   "metadata": {},
   "outputs": [],
   "source": []
  },
  {
   "cell_type": "code",
   "execution_count": null,
   "id": "a8b4013e-fb99-4642-9300-0e68f6f818a7",
   "metadata": {},
   "outputs": [],
   "source": []
  },
  {
   "cell_type": "code",
   "execution_count": null,
   "id": "fb2f6834-f690-484b-9b83-e4028e59c172",
   "metadata": {},
   "outputs": [],
   "source": []
  },
  {
   "cell_type": "markdown",
   "id": "3b16d975-f5b1-4cfe-a6c1-e613d8f4a0dd",
   "metadata": {
    "jp-MarkdownHeadingCollapsed": true
   },
   "source": [
    "# 2. 각 상권 별 매출총액 (상권매칭 & 매출총액)\n"
   ]
  },
  {
   "cell_type": "markdown",
   "id": "fd0d671e-6bc7-40df-9a7e-b5a1c52b11cf",
   "metadata": {
    "jp-MarkdownHeadingCollapsed": true
   },
   "source": [
    "## 2.1 데이터 불러오기\n"
   ]
  },
  {
   "cell_type": "code",
   "execution_count": null,
   "id": "2638cf84-7f29-4427-a1cd-188eda4c39ae",
   "metadata": {},
   "outputs": [],
   "source": [
    "df_sk = pd.read_csv('./dataset/상권매칭테이블.csv', encoding='euc-kr')\n",
    "df_sk.head()"
   ]
  },
  {
   "cell_type": "code",
   "execution_count": null,
   "id": "848859d7-4d66-45c4-8597-9d0ae8e618ce",
   "metadata": {},
   "outputs": [],
   "source": [
    "df_sell = pd.read_csv('./dataset/TBSM_SUD_SELNG_QU.csv', encoding='euc-kr')\n",
    "df_sell.head()"
   ]
  },
  {
   "cell_type": "code",
   "execution_count": null,
   "id": "ea2c4bcb-2541-4789-a48a-a3dff3850d88",
   "metadata": {},
   "outputs": [],
   "source": [
    "df = pd.merge(left = df_sk , right = df_sell, how = \"inner\", on = \"SUD_CD\")\n",
    "df.head()"
   ]
  },
  {
   "cell_type": "code",
   "execution_count": null,
   "id": "a35db3dc-2f03-4508-b0ba-6300ac9d8a7f",
   "metadata": {},
   "outputs": [],
   "source": [
    "len(df)"
   ]
  },
  {
   "cell_type": "code",
   "execution_count": null,
   "id": "580d5302-9a9f-4d02-af7a-bfffb69a1240",
   "metadata": {},
   "outputs": [],
   "source": [
    "df1 = df[['STDR_YYQU_CD', 'SUD_CD', 'SVC_INDUTY_CD', 'THSMON_SELNG_AMT', 'TRDAR_SE_CD']]  # 기준 년분기, 표준단위구역, 서비스_업종_코드, 당월_매출_금액, 상권코드\n",
    "df1"
   ]
  },
  {
   "cell_type": "markdown",
   "id": "1a85e7d3-068e-426f-b4b4-817b7825fa77",
   "metadata": {
    "jp-MarkdownHeadingCollapsed": true
   },
   "source": [
    "## 2.2 상권별 데이터 분리\n"
   ]
  },
  {
   "cell_type": "code",
   "execution_count": null,
   "id": "6f072913-a741-42cd-bcc9-bd92b71ffe00",
   "metadata": {},
   "outputs": [],
   "source": [
    "df_A, df_D, df_R = df1[df1['TRDAR_SE_CD']=='A'], df1[df1['TRDAR_SE_CD']=='D'], df1[df1['TRDAR_SE_CD']=='R']"
   ]
  },
  {
   "cell_type": "code",
   "execution_count": null,
   "id": "ec28fd77-7103-42dc-a13a-3285d40affa9",
   "metadata": {},
   "outputs": [],
   "source": [
    "df_A, df_D, df_R = df_A.drop(columns=['SVC_INDUTY_CD', 'TRDAR_SE_CD']), df_D.drop(columns=['SVC_INDUTY_CD', 'TRDAR_SE_CD']), df_R.drop(columns=['SVC_INDUTY_CD', 'TRDAR_SE_CD'])"
   ]
  },
  {
   "cell_type": "code",
   "execution_count": null,
   "id": "42779e37-e010-49b7-bae6-ecc8e0c2aefd",
   "metadata": {},
   "outputs": [],
   "source": [
    "df_A"
   ]
  },
  {
   "cell_type": "markdown",
   "id": "eceae334-2ac4-4903-a072-e16816ad41b4",
   "metadata": {
    "jp-MarkdownHeadingCollapsed": true
   },
   "source": [
    "## 2.3 표준단위구역의 월별 (구역 내) 매출 평균 그래프\n"
   ]
  },
  {
   "cell_type": "code",
   "execution_count": null,
   "id": "9f76da4d-5515-4f21-a72f-4394f98a3e06",
   "metadata": {},
   "outputs": [],
   "source": [
    "import numpy as np\n",
    "import matplotlib.pyplot as plt\n",
    "\n",
    "for code in list(set(df_A['SUD_CD'].values)):\n",
    "    tmp = df_A[df_A['SUD_CD'] == code].drop(columns=['SUD_CD'])\n",
    "    tmp.groupby('STDR_YYQU_CD').mean()\n",
    "    plt.plot(tmp['STDR_YYQU_CD'], tmp['THSMON_SELNG_AMT'])"
   ]
  },
  {
   "cell_type": "code",
   "execution_count": null,
   "id": "4673b7d5-b3ba-44b3-ae4e-74d6af46c550",
   "metadata": {},
   "outputs": [],
   "source": [
    "for code in list(set(df_D['SUD_CD'].values)):\n",
    "    tmp = df_D[df_D['SUD_CD'] == code].drop(columns=['SUD_CD'])\n",
    "    tmp.groupby('STDR_YYQU_CD').mean()\n",
    "    plt.plot(tmp['STDR_YYQU_CD'], tmp['THSMON_SELNG_AMT'])"
   ]
  },
  {
   "cell_type": "code",
   "execution_count": null,
   "id": "0e300fa8-498d-4b1b-b31e-1f51844445e4",
   "metadata": {},
   "outputs": [],
   "source": [
    "for code in list(set(df_R['SUD_CD'].values)):\n",
    "    tmp = df_R[df_R['SUD_CD'] == code].drop(columns=['SUD_CD'])\n",
    "    tmp.groupby('STDR_YYQU_CD').mean()\n",
    "    plt.plot(tmp['STDR_YYQU_CD'], tmp['THSMON_SELNG_AMT'])"
   ]
  },
  {
   "cell_type": "code",
   "execution_count": null,
   "id": "1b0f556b-c230-4e03-9b73-842e584b2526",
   "metadata": {},
   "outputs": [],
   "source": [
    "len(set(df_R['SUD_CD'].values))"
   ]
  },
  {
   "cell_type": "markdown",
   "id": "83d39c2f-17d3-4ec7-a21a-0a4cf2cb1428",
   "metadata": {},
   "source": [
    "# 3. Test 모델\n"
   ]
  },
  {
   "cell_type": "markdown",
   "id": "f2d6e5b4-e183-440b-924e-30b87a88bb66",
   "metadata": {},
   "source": [
    "## 3.1 Data Load\n"
   ]
  },
  {
   "cell_type": "markdown",
   "id": "c431d1b8-55f9-40e1-8b8b-b17ce1fb4eee",
   "metadata": {},
   "source": [
    "사용할 데이터 : 3번 테이블(생활인구=유동인구), 5번(임대시세)\n"
   ]
  },
  {
   "cell_type": "code",
   "execution_count": 30,
   "id": "13444071-bfb7-475d-9ad5-55dd4c06c273",
   "metadata": {},
   "outputs": [
    {
     "ename": "NameError",
     "evalue": "name 'data_df_list' is not defined",
     "output_type": "error",
     "traceback": [
      "\u001b[0;31m---------------------------------------------------------------------------\u001b[0m",
      "\u001b[0;31mNameError\u001b[0m                                 Traceback (most recent call last)",
      "Cell \u001b[0;32mIn[30], line 1\u001b[0m\n\u001b[0;32m----> 1\u001b[0m data_df_list[\u001b[38;5;241m3\u001b[39m]\u001b[38;5;241m.\u001b[39mhead()\n",
      "\u001b[0;31mNameError\u001b[0m: name 'data_df_list' is not defined"
     ]
    }
   ],
   "source": [
    "data_df_list[3].head()"
   ]
  },
  {
   "cell_type": "code",
   "execution_count": null,
   "id": "f4a8396e-6373-4aba-acaa-8416f9a142ac",
   "metadata": {},
   "outputs": [],
   "source": [
    "data_df_list[5].head()"
   ]
  },
  {
   "cell_type": "code",
   "execution_count": null,
   "id": "a8d0f6ad-8365-4572-8ce8-e3113b2e007d",
   "metadata": {},
   "outputs": [],
   "source": [
    "df_sk2.head()"
   ]
  },
  {
   "cell_type": "code",
   "execution_count": null,
   "id": "8582222e-16b0-45e7-aa1c-8a5ecedc67c4",
   "metadata": {},
   "outputs": [],
   "source": [
    "df = pd.merge(left = data_df_list[3], right = data_df_list[5], how = \"inner\", on = [\"표준단위구역_코드\", \"기준_년분기_코드\"])\n",
    "df = pd.merge(left = df, right = df_sk2, how = \"inner\", on = [\"표준단위구역_코드\"]).drop(columns=['표준단위구역_코드'])\n",
    "df = df.drop(columns=['임대시세_층구분_코드(공통코드:SG039)', '기준_년분기_코드'])\n",
    "df.head()"
   ]
  },
  {
   "cell_type": "code",
   "execution_count": null,
   "id": "33bc3cd2-2a28-45db-9b22-3be92f233b31",
   "metadata": {},
   "outputs": [],
   "source": [
    "df.columns"
   ]
  },
  {
   "cell_type": "markdown",
   "id": "0ab9e6b5-81ad-4a09-b291-e032838b4b56",
   "metadata": {},
   "source": [
    "## 3.2 Data Split & Define Model\n"
   ]
  },
  {
   "cell_type": "code",
   "execution_count": null,
   "id": "74c47a46-9315-48ba-86d4-93c2d74db595",
   "metadata": {},
   "outputs": [],
   "source": [
    "from sklearn.linear_model import LinearRegression\n",
    "from sklearn.model_selection import train_test_split\n",
    "from sklearn.metrics import mean_squared_error, r2_score"
   ]
  },
  {
   "cell_type": "code",
   "execution_count": null,
   "id": "df9c11e1-c648-4f11-a33e-ab8308b7ff52",
   "metadata": {},
   "outputs": [],
   "source": [
    "#X, Y 분할하기\n",
    "Y = df['상권분류코드']\n",
    "X = df.drop(['상권분류코드'], axis = 1, inplace = False)\n",
    "X.shape, Y.shape"
   ]
  },
  {
   "cell_type": "code",
   "execution_count": null,
   "id": "131a15b5-b6bc-474c-b106-f0f7ac72fe9f",
   "metadata": {},
   "outputs": [],
   "source": [
    "Y = Y.map({'A':2, 'D':1, 'R':0})\n",
    "Y.head()"
   ]
  },
  {
   "cell_type": "code",
   "execution_count": null,
   "id": "325a767c-23f0-4a28-8afb-bac6e40f84d8",
   "metadata": {},
   "outputs": [],
   "source": [
    "#훈련용 데이터와 평가용 데이터 분할하기\n",
    "X_train, X_test, Y_train, Y_test = train_test_split(X, Y, test_size = 0.3, random_state = 42)"
   ]
  },
  {
   "cell_type": "code",
   "execution_count": null,
   "id": "adf7da73-7624-41be-b6fe-b2fabb91ef78",
   "metadata": {},
   "outputs": [],
   "source": [
    "import xgboost as xgb"
   ]
  },
  {
   "cell_type": "code",
   "execution_count": null,
   "id": "cf790dda-8cf6-4711-8b8a-fbf5101f8b66",
   "metadata": {},
   "outputs": [],
   "source": [
    "model = xgb.XGBClassifier(n_estimators = 500, max_depth = 5, random_state = 42)"
   ]
  },
  {
   "cell_type": "code",
   "execution_count": null,
   "id": "20ad71ce-4170-4137-ba88-d5ab54b92743",
   "metadata": {},
   "outputs": [],
   "source": [
    "model.fit(X_train, Y_train)"
   ]
  },
  {
   "cell_type": "code",
   "execution_count": null,
   "id": "64c562dc-7417-4818-9956-2cd0f85c2ddd",
   "metadata": {},
   "outputs": [],
   "source": [
    "pred = model.predict(X_test)"
   ]
  },
  {
   "cell_type": "code",
   "execution_count": null,
   "id": "5dd0721d-c8ab-4611-b761-99173d713a71",
   "metadata": {},
   "outputs": [],
   "source": [
    "from sklearn.metrics import accuracy_score, confusion_matrix, classification_report"
   ]
  },
  {
   "cell_type": "code",
   "execution_count": null,
   "id": "12684174-e45c-486e-8d77-51afd06bc765",
   "metadata": {},
   "outputs": [],
   "source": [
    "accuracy_score(Y_test, pred)"
   ]
  },
  {
   "cell_type": "code",
   "execution_count": null,
   "id": "687d5cdf-acdf-4566-9fa9-7298a4eb9c80",
   "metadata": {},
   "outputs": [],
   "source": [
    "confusion_matrix(Y_test, pred)"
   ]
  },
  {
   "cell_type": "code",
   "execution_count": null,
   "id": "d5553524-d042-4a8a-bdbe-e48ea3d7abc9",
   "metadata": {},
   "outputs": [],
   "source": [
    "print(classification_report(Y_test, pred))"
   ]
  },
  {
   "cell_type": "code",
   "execution_count": null,
   "id": "04f71cc1-3b47-4ab0-8089-b1dedbd9ad92",
   "metadata": {},
   "outputs": [],
   "source": [
    "model.feature_importances_"
   ]
  },
  {
   "cell_type": "code",
   "execution_count": null,
   "id": "f74c07df-49ee-4985-8e1a-258de594ecf6",
   "metadata": {},
   "outputs": [],
   "source": [
    "feature_imp = pd.DataFrame({'features': X_train.columns, 'values': model.feature_importances_})\n",
    "feature_imp.head()"
   ]
  },
  {
   "cell_type": "code",
   "execution_count": null,
   "id": "b1a76763-e019-4cd1-9f62-3483747b5dec",
   "metadata": {},
   "outputs": [],
   "source": [
    "import seaborn as sns\n",
    "plt.figure(figsize=(20, 10))\n",
    "sns.barplot(x='values', y='features', data=feature_imp.sort_values(by='values', ascending=False).head(10))"
   ]
  },
  {
   "cell_type": "code",
   "execution_count": null,
   "id": "467d0257-6933-4dae-b085-eec7f021db59",
   "metadata": {},
   "outputs": [],
   "source": []
  },
  {
   "cell_type": "markdown",
   "id": "261f8996-ca3b-4e14-901c-e5f3fb666f97",
   "metadata": {},
   "source": [
    "# 100. 기타\n"
   ]
  },
  {
   "cell_type": "code",
   "execution_count": null,
   "id": "8921c673-0d92-4e79-b04f-1881ae58d814",
   "metadata": {},
   "outputs": [],
   "source": [
    "df_up = pd.read_excel('./dataset/업종매칭테이블.xlsx')\n",
    "df_up.head()"
   ]
  },
  {
   "cell_type": "code",
   "execution_count": null,
   "id": "e34af22c-8e19-4b37-a14c-74f6ce40c545",
   "metadata": {},
   "outputs": [],
   "source": [
    "F1 = './dataset/shp/골목상권.shp' \n",
    "D1 = gpd.read_file(F1)\n",
    "D1.head()"
   ]
  },
  {
   "cell_type": "code",
   "execution_count": null,
   "id": "2c7b8adc-c6dd-4d5a-af1c-4bc7fd6e69db",
   "metadata": {},
   "outputs": [],
   "source": [
    "F1 = './dataset/shp/표준단위구역.shp' \n",
    "D1 = gpd.read_file(F1)\n",
    "D1.head()"
   ]
  },
  {
   "cell_type": "code",
   "execution_count": null,
   "id": "678b22e1-f12e-4ed6-af1e-4566ec08038e",
   "metadata": {},
   "outputs": [],
   "source": []
  },
  {
   "cell_type": "code",
   "execution_count": null,
   "id": "765ba954-c40a-4197-a9b1-e002c880a9f7",
   "metadata": {},
   "outputs": [],
   "source": []
  }
 ],
 "metadata": {
  "kernelspec": {
   "display_name": "Python 3 (ipykernel)",
   "language": "python",
   "name": "python3"
  },
  "language_info": {
   "codemirror_mode": {
    "name": "ipython",
    "version": 3
   },
   "file_extension": ".py",
   "mimetype": "text/x-python",
   "name": "python",
   "nbconvert_exporter": "python",
   "pygments_lexer": "ipython3",
   "version": "3.11.7"
  }
 },
 "nbformat": 4,
 "nbformat_minor": 5
}
